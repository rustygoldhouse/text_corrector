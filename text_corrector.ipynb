{
  "nbformat": 4,
  "nbformat_minor": 0,
  "metadata": {
    "colab": {
      "name": "text_corrector.ipynb",
      "version": "0.3.2",
      "provenance": [],
      "include_colab_link": true
    },
    "kernelspec": {
      "name": "python3",
      "display_name": "Python 3"
    },
    "accelerator": "GPU"
  },
  "cells": [
    {
      "cell_type": "markdown",
      "metadata": {
        "id": "view-in-github",
        "colab_type": "text"
      },
      "source": [
        "<a href=\"https://colab.research.google.com/github/rustygoldhouse/text_corrector/blob/master/text_corrector.ipynb\" target=\"_parent\"><img src=\"https://colab.research.google.com/assets/colab-badge.svg\" alt=\"Open In Colab\"/></a>"
      ]
    },
    {
      "metadata": {
        "id": "nujjGk0ue2VO",
        "colab_type": "code",
        "colab": {
          "base_uri": "https://localhost:8080/",
          "height": 121
        },
        "outputId": "2ccbe431-e4be-4afe-d5df-9b3c0892b0c5"
      },
      "cell_type": "code",
      "source": [
        "! git clone https://github.com/rustygoldhouse/text_corrector.git"
      ],
      "execution_count": 1,
      "outputs": [
        {
          "output_type": "stream",
          "text": [
            "Cloning into 'text_corrector'...\n",
            "remote: Enumerating objects: 34, done.\u001b[K\n",
            "remote: Counting objects: 100% (34/34), done.\u001b[K\n",
            "remote: Compressing objects: 100% (28/28), done.\u001b[K\n",
            "remote: Total 34 (delta 6), reused 32 (delta 4), pack-reused 0\u001b[K\n",
            "Unpacking objects: 100% (34/34), done.\n"
          ],
          "name": "stdout"
        }
      ]
    },
    {
      "metadata": {
        "id": "zhQPvRK-mo9v",
        "colab_type": "code",
        "colab": {
          "base_uri": "https://localhost:8080/",
          "height": 104
        },
        "outputId": "977c4e65-1732-4aef-e7d4-6f44a0ec3874"
      },
      "cell_type": "code",
      "source": [
        "! git clone git://github.com/rcourivaud/symspellcompound\n",
        "  "
      ],
      "execution_count": 3,
      "outputs": [
        {
          "output_type": "stream",
          "text": [
            "Cloning into 'symspellcompound'...\n",
            "remote: Enumerating objects: 61, done.\u001b[K\n",
            "remote: Total 61 (delta 0), reused 0 (delta 0), pack-reused 61\u001b[K\n",
            "Receiving objects: 100% (61/61), 495.55 KiB | 543.00 KiB/s, done.\n",
            "Resolving deltas: 100% (10/10), done.\n"
          ],
          "name": "stdout"
        }
      ]
    },
    {
      "metadata": {
        "id": "xVUk9JsAmuUY",
        "colab_type": "code",
        "colab": {
          "base_uri": "https://localhost:8080/",
          "height": 34
        },
        "outputId": "d8a6df88-65af-4447-daf1-5dd5f426a852"
      },
      "cell_type": "code",
      "source": [
        "% cd symspellcompound/"
      ],
      "execution_count": 6,
      "outputs": [
        {
          "output_type": "stream",
          "text": [
            "UsageError: Line magic function `%setup.py` not found.\n"
          ],
          "name": "stderr"
        }
      ]
    },
    {
      "metadata": {
        "id": "3RAtbVArm6y2",
        "colab_type": "code",
        "colab": {
          "base_uri": "https://localhost:8080/",
          "height": 1109
        },
        "outputId": "fa722bc5-324b-48ec-cde4-a994846e6ca8"
      },
      "cell_type": "code",
      "source": [
        "!python setup.py install"
      ],
      "execution_count": 8,
      "outputs": [
        {
          "output_type": "stream",
          "text": [
            "running install\n",
            "running bdist_egg\n",
            "running egg_info\n",
            "creating symspellcompound.egg-info\n",
            "writing symspellcompound.egg-info/PKG-INFO\n",
            "writing dependency_links to symspellcompound.egg-info/dependency_links.txt\n",
            "writing top-level names to symspellcompound.egg-info/top_level.txt\n",
            "writing manifest file 'symspellcompound.egg-info/SOURCES.txt'\n",
            "reading manifest file 'symspellcompound.egg-info/SOURCES.txt'\n",
            "reading manifest template 'MANIFEST.in'\n",
            "warning: no previously-included files matching '__pycache__' found under directory '*'\n",
            "warning: no previously-included files matching '*.py[co]' found under directory '*'\n",
            "warning: no files found matching '*.jpg' under directory 'docs'\n",
            "warning: no files found matching '*.png' under directory 'docs'\n",
            "warning: no files found matching '*.gif' under directory 'docs'\n",
            "writing manifest file 'symspellcompound.egg-info/SOURCES.txt'\n",
            "installing library code to build/bdist.linux-x86_64/egg\n",
            "running install_lib\n",
            "running build_py\n",
            "creating build\n",
            "creating build/lib\n",
            "creating build/lib/symspellcompound\n",
            "copying symspellcompound/items.py -> build/lib/symspellcompound\n",
            "copying symspellcompound/tools.py -> build/lib/symspellcompound\n",
            "copying symspellcompound/errors.py -> build/lib/symspellcompound\n",
            "copying symspellcompound/data.py -> build/lib/symspellcompound\n",
            "copying symspellcompound/__init__.py -> build/lib/symspellcompound\n",
            "copying symspellcompound/symspellcompound.py -> build/lib/symspellcompound\n",
            "copying symspellcompound/typo_distance.py -> build/lib/symspellcompound\n",
            "creating build/bdist.linux-x86_64\n",
            "creating build/bdist.linux-x86_64/egg\n",
            "creating build/bdist.linux-x86_64/egg/symspellcompound\n",
            "copying build/lib/symspellcompound/items.py -> build/bdist.linux-x86_64/egg/symspellcompound\n",
            "copying build/lib/symspellcompound/tools.py -> build/bdist.linux-x86_64/egg/symspellcompound\n",
            "copying build/lib/symspellcompound/errors.py -> build/bdist.linux-x86_64/egg/symspellcompound\n",
            "copying build/lib/symspellcompound/data.py -> build/bdist.linux-x86_64/egg/symspellcompound\n",
            "copying build/lib/symspellcompound/__init__.py -> build/bdist.linux-x86_64/egg/symspellcompound\n",
            "copying build/lib/symspellcompound/symspellcompound.py -> build/bdist.linux-x86_64/egg/symspellcompound\n",
            "copying build/lib/symspellcompound/typo_distance.py -> build/bdist.linux-x86_64/egg/symspellcompound\n",
            "byte-compiling build/bdist.linux-x86_64/egg/symspellcompound/items.py to items.cpython-36.pyc\n",
            "byte-compiling build/bdist.linux-x86_64/egg/symspellcompound/tools.py to tools.cpython-36.pyc\n",
            "byte-compiling build/bdist.linux-x86_64/egg/symspellcompound/errors.py to errors.cpython-36.pyc\n",
            "byte-compiling build/bdist.linux-x86_64/egg/symspellcompound/data.py to data.cpython-36.pyc\n",
            "byte-compiling build/bdist.linux-x86_64/egg/symspellcompound/__init__.py to __init__.cpython-36.pyc\n",
            "byte-compiling build/bdist.linux-x86_64/egg/symspellcompound/symspellcompound.py to symspellcompound.cpython-36.pyc\n",
            "byte-compiling build/bdist.linux-x86_64/egg/symspellcompound/typo_distance.py to typo_distance.cpython-36.pyc\n",
            "creating build/bdist.linux-x86_64/egg/EGG-INFO\n",
            "copying symspellcompound.egg-info/PKG-INFO -> build/bdist.linux-x86_64/egg/EGG-INFO\n",
            "copying symspellcompound.egg-info/SOURCES.txt -> build/bdist.linux-x86_64/egg/EGG-INFO\n",
            "copying symspellcompound.egg-info/dependency_links.txt -> build/bdist.linux-x86_64/egg/EGG-INFO\n",
            "copying symspellcompound.egg-info/not-zip-safe -> build/bdist.linux-x86_64/egg/EGG-INFO\n",
            "copying symspellcompound.egg-info/top_level.txt -> build/bdist.linux-x86_64/egg/EGG-INFO\n",
            "creating dist\n",
            "creating 'dist/symspellcompound-0.1.0-py3.6.egg' and adding 'build/bdist.linux-x86_64/egg' to it\n",
            "removing 'build/bdist.linux-x86_64/egg' (and everything under it)\n",
            "Processing symspellcompound-0.1.0-py3.6.egg\n",
            "creating /usr/local/lib/python3.6/dist-packages/symspellcompound-0.1.0-py3.6.egg\n",
            "Extracting symspellcompound-0.1.0-py3.6.egg to /usr/local/lib/python3.6/dist-packages\n",
            "Adding symspellcompound 0.1.0 to easy-install.pth file\n",
            "\n",
            "Installed /usr/local/lib/python3.6/dist-packages/symspellcompound-0.1.0-py3.6.egg\n",
            "Processing dependencies for symspellcompound==0.1.0\n",
            "Finished processing dependencies for symspellcompound==0.1.0\n"
          ],
          "name": "stdout"
        }
      ]
    },
    {
      "metadata": {
        "id": "chXz-z1PfmqS",
        "colab_type": "code",
        "colab": {}
      },
      "cell_type": "code",
      "source": [
        "!pip install symspellpy"
      ],
      "execution_count": 0,
      "outputs": []
    }
  ]
}